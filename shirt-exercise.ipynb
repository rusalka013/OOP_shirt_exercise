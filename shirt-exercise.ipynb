{
 "cells": [
  {
   "cell_type": "markdown",
   "metadata": {},
   "source": [
    "# Use the Shirt Class\n",
    "\n",
    "You've seen what a class looks like and how to instantiate an object. Now it's your turn to write code that insantiates a shirt object.\n",
    "\n",
    "# Explanation of the Code\n",
    "This exercise using Jupyter notebook includes three files:\n",
    "- shirt_exercise.ipynb, which is the file you are currently looking at\n",
    "- answer.py containing answers to the exercise\n",
    "- tests.py, tests for checking your code - you can run these tests using the last code cell at the bottom of this notebook\n",
    "\n",
    "# Your Task\n",
    "The shirt_exercise.ipynb file, which you are currently looking at if you are reading this, has an exercise to help guide you through coding with an object in Python.\n",
    "\n",
    "Fill out the TODOs in each section of the Jupyter notebook. You can find a solution in the answer.py file.\n",
    "\n",
    "First, run this code cell below to load the Shirt class."
   ]
  },
  {
   "cell_type": "code",
   "execution_count": 1,
   "metadata": {
    "ExecuteTime": {
     "end_time": "2023-01-02T19:03:51.196526Z",
     "start_time": "2023-01-02T19:03:51.193025Z"
    }
   },
   "outputs": [],
   "source": [
    "class Shirt:\n",
    "\n",
    "    def __init__(self, shirt_color, shirt_size, shirt_style, shirt_price):\n",
    "        self.color = shirt_color\n",
    "        self.size = shirt_size\n",
    "        self.style = shirt_style\n",
    "        self.price = shirt_price\n",
    "    \n",
    "    def change_price(self, new_price):\n",
    "    \n",
    "        self.price = new_price\n",
    "        \n",
    "    def discount(self, discount):\n",
    "\n",
    "        return self.price * (1 - discount)"
   ]
  },
  {
   "cell_type": "code",
   "execution_count": 4,
   "metadata": {
    "ExecuteTime": {
     "end_time": "2023-01-02T19:06:39.786453Z",
     "start_time": "2023-01-02T19:06:39.777033Z"
    }
   },
   "outputs": [
    {
     "data": {
      "text/plain": [
       "<__main__.Shirt at 0x7f9b12149f70>"
      ]
     },
     "execution_count": 4,
     "metadata": {},
     "output_type": "execute_result"
    }
   ],
   "source": [
    "### TODO:\n",
    "#    - insantiate a shirt object with the following characteristics:\n",
    "#        - color red, size S, style long-sleeve, and price 25\n",
    "#    - store the object in a variable called shirt_one\n",
    "Shirt('red', 'S', 'long-sleeve', 25)\n",
    "shirt_one = Shirt('red', 'S', 'long-sleeve', 25)\n",
    "shirt_one"
   ]
  },
  {
   "cell_type": "code",
   "execution_count": 6,
   "metadata": {
    "ExecuteTime": {
     "end_time": "2023-01-02T19:13:37.936804Z",
     "start_time": "2023-01-02T19:13:37.933247Z"
    }
   },
   "outputs": [
    {
     "name": "stdout",
     "output_type": "stream",
     "text": [
      "10\n",
      "10\n",
      "8.8\n"
     ]
    }
   ],
   "source": [
    "### TODO:\n",
    "#     - print the price of the shirt using the price attribute\n",
    "#     - use the change_price method to change the price of the shirt to 10\n",
    "#     - print the price of the shirt using the price attribute\n",
    "#     - use the discount method to print the price of the shirt with a 12% discount\n",
    "#\n",
    "###\n",
    "\n",
    "print(shirt_one.price)\n",
    "shirt_one.change_price(10)\n",
    "print(shirt_one.price)\n",
    "print(shirt_one.discount(.12))"
   ]
  },
  {
   "cell_type": "code",
   "execution_count": 7,
   "metadata": {
    "ExecuteTime": {
     "end_time": "2023-01-02T19:14:44.320758Z",
     "start_time": "2023-01-02T19:14:44.316857Z"
    }
   },
   "outputs": [
    {
     "data": {
      "text/plain": [
       "<__main__.Shirt at 0x7f9b11da7250>"
      ]
     },
     "execution_count": 7,
     "metadata": {},
     "output_type": "execute_result"
    }
   ],
   "source": [
    "### TODO:\n",
    "#\n",
    "#    - instantiate another object with the following characteristics:\n",
    "# .       - color orange, size L, style short-sleeve, and price 10\n",
    "#    - store the object in a variable called shirt_two\n",
    "#\n",
    "###\n",
    "Shirt('orange', 'L', 'short-sleeve', 10)\n",
    "shirt_two = Shirt('orange', 'L', 'short-sleeve', 10)\n",
    "shirt_two"
   ]
  },
  {
   "cell_type": "code",
   "execution_count": 9,
   "metadata": {
    "ExecuteTime": {
     "end_time": "2023-01-02T19:15:18.574418Z",
     "start_time": "2023-01-02T19:15:18.570902Z"
    }
   },
   "outputs": [
    {
     "data": {
      "text/plain": [
       "20"
      ]
     },
     "execution_count": 9,
     "metadata": {},
     "output_type": "execute_result"
    }
   ],
   "source": [
    "### TODO:\n",
    "#\n",
    "#    - calculate the total cost of shirt_one and shirt_two\n",
    "#    - store the results in a variable called total\n",
    "#    \n",
    "###\n",
    "\n",
    "total = shirt_one.price + shirt_two.price\n",
    "total"
   ]
  },
  {
   "cell_type": "code",
   "execution_count": 10,
   "metadata": {
    "ExecuteTime": {
     "end_time": "2023-01-02T19:17:00.014013Z",
     "start_time": "2023-01-02T19:17:00.010141Z"
    }
   },
   "outputs": [
    {
     "data": {
      "text/plain": [
       "18.0"
      ]
     },
     "execution_count": 10,
     "metadata": {},
     "output_type": "execute_result"
    }
   ],
   "source": [
    "### TODO:\n",
    "#\n",
    "#    - use the shirt discount method to calculate the total cost if\n",
    "#       shirt_one has a discount of 14% and shirt_two has a discount\n",
    "#       of 6%\n",
    "#    - store the results in a variable called total_discount\n",
    "###\n",
    "\n",
    "total_discount = shirt_one.discount(.14) + shirt_two.discount(.06)\n",
    "total_discount"
   ]
  },
  {
   "cell_type": "markdown",
   "metadata": {},
   "source": [
    "# Test your Code\n",
    "\n",
    "\n",
    "The following code cell tests your code. \n",
    "\n",
    "There is a file called tests.py containing a function called run_tests(). The run_tests() function executes a handful of assert statements to check your work. You can see this file if you go to the Jupyter Notebook menu and click on \"File->Open\" and then open the tests.py file.\n",
    "\n",
    "Execute the next code cell. The code will produce an error if your answers in this exercise are not what was expected. Keep working on your code until all tests are passing.\n",
    "\n",
    "If you run the code cell and there is no output, then you passed all the tests!\n",
    "\n",
    "As mentioned previously, there's also a file with a solution. To find the solution, click on the Jupyter logo at the top of the workspace, and then enter the folder titled 1.OOP_syntax_shirt_practice"
   ]
  },
  {
   "cell_type": "code",
   "execution_count": 11,
   "metadata": {
    "ExecuteTime": {
     "end_time": "2023-01-02T19:17:49.363100Z",
     "start_time": "2023-01-02T19:17:49.359339Z"
    }
   },
   "outputs": [],
   "source": [
    "# Unit tests to check your solution\n",
    "from tests import run_tests\n",
    "\n",
    "run_tests(shirt_one, shirt_two, total, total_discount)"
   ]
  },
  {
   "cell_type": "code",
   "execution_count": null,
   "metadata": {},
   "outputs": [],
   "source": []
  }
 ],
 "metadata": {
  "hide_input": false,
  "kernelspec": {
   "display_name": "Python 3",
   "language": "python",
   "name": "python3"
  },
  "language_info": {
   "codemirror_mode": {
    "name": "ipython",
    "version": 3
   },
   "file_extension": ".py",
   "mimetype": "text/x-python",
   "name": "python",
   "nbconvert_exporter": "python",
   "pygments_lexer": "ipython3",
   "version": "3.8.5"
  },
  "toc": {
   "base_numbering": 1,
   "nav_menu": {},
   "number_sections": true,
   "sideBar": true,
   "skip_h1_title": false,
   "title_cell": "Table of Contents",
   "title_sidebar": "Contents",
   "toc_cell": false,
   "toc_position": {},
   "toc_section_display": true,
   "toc_window_display": false
  },
  "varInspector": {
   "cols": {
    "lenName": 16,
    "lenType": 16,
    "lenVar": 40
   },
   "kernels_config": {
    "python": {
     "delete_cmd_postfix": "",
     "delete_cmd_prefix": "del ",
     "library": "var_list.py",
     "varRefreshCmd": "print(var_dic_list())"
    },
    "r": {
     "delete_cmd_postfix": ") ",
     "delete_cmd_prefix": "rm(",
     "library": "var_list.r",
     "varRefreshCmd": "cat(var_dic_list()) "
    }
   },
   "types_to_exclude": [
    "module",
    "function",
    "builtin_function_or_method",
    "instance",
    "_Feature"
   ],
   "window_display": false
  }
 },
 "nbformat": 4,
 "nbformat_minor": 2
}
